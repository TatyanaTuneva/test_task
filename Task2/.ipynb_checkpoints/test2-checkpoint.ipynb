{
 "cells": [
  {
   "cell_type": "code",
   "execution_count": 42,
   "id": "933cd9aa",
   "metadata": {},
   "outputs": [],
   "source": [
    "import pandas as pd\n",
    "import matplotlib.pyplot as plt\n",
    "import numpy as np\n",
    "import seaborn as sns\n",
    "import re\n",
    "from datetime import datetime\n",
    "from scipy import stats\n",
    "pd.options.mode.chained_assignment = None"
   ]
  },
  {
   "cell_type": "markdown",
   "id": "f65f2149",
   "metadata": {},
   "source": [
    "Нулевая гипотеза: разницы между количеством просмотров контактов между новым и старым дизайном нет \\\n",
    "Альтернативная гипотеза: существует разница между количеством просмотров контактов между новым и старым дизайном\n",
    "\n",
    "Проверяем нулевую гипотезу"
   ]
  },
  {
   "cell_type": "markdown",
   "id": "c261bd0b",
   "metadata": {},
   "source": [
    "Считываем файл и сразу же преобразовываем колонку date"
   ]
  },
  {
   "cell_type": "code",
   "execution_count": 43,
   "id": "6a4754f4",
   "metadata": {
    "scrolled": true
   },
   "outputs": [],
   "source": [
    "def parse_dates(dates):\n",
    "    return [\n",
    "        datetime.strptime(date, '%Y-%m-%d %H:%M:%S').strftime('%d-%m')\n",
    "        for date in dates\n",
    "    ]\n",
    "\n",
    "\n",
    "data = pd.read_csv('exp1.csv', parse_dates=['date'], date_parser=parse_dates)"
   ]
  },
  {
   "cell_type": "markdown",
   "id": "d431601d",
   "metadata": {},
   "source": [
    "Инициализируем регулярные выражения для создания новых датасетов"
   ]
  },
  {
   "cell_type": "code",
   "execution_count": 44,
   "id": "3214aae4",
   "metadata": {},
   "outputs": [],
   "source": [
    "card = r'/city/directory/\\d+.html'\n",
    "contact_1 = r'/good/\\d+/owner_info.*'\n",
    "contact_2 = r'/bulletin/\\d+/ajax_contact.*'"
   ]
  },
  {
   "cell_type": "markdown",
   "id": "416e8c97",
   "metadata": {},
   "source": [
    "Создаем датасет data_cards, в котором хранятся все открытия карточек. Так же создаем новую колонку dir для будущего соединения с контактами. Так же удаляем дубликаты в строках (если человек заходил в карточку несколько раз в день, то останется только одна запись)"
   ]
  },
  {
   "cell_type": "code",
   "execution_count": 45,
   "id": "fff0b2a3",
   "metadata": {},
   "outputs": [],
   "source": [
    "data_cards = data.loc[data['url'].str.match(pat=card)]\n",
    "data_cards['class'] = data_cards['user_id'].apply(lambda x: x[-1])\n",
    "data_cards = data_cards.groupby(['class', 'date'], as_index=False).aggregate({'url': 'count'})"
   ]
  },
  {
   "cell_type": "markdown",
   "id": "e6ef792c",
   "metadata": {},
   "source": [
    "Создаем датасет data_contacts, в котором хранятся все открытия контактов. Так же создаем новую колонку dir для будущего соединения с карточками"
   ]
  },
  {
   "cell_type": "code",
   "execution_count": 46,
   "id": "cc067c9f",
   "metadata": {},
   "outputs": [],
   "source": [
    "data_contacts = data.loc[(data['url'].str.match(pat=contact_1)) | (data['url'].str.match(pat=contact_2))]\n",
    "data_contacts['class'] = data_contacts['user_id'].apply(lambda x: x[-1])\n",
    "data_contacts = data_contacts.groupby(['class', 'date'], as_index=False).aggregate({'url': 'count'})"
   ]
  },
  {
   "cell_type": "markdown",
   "id": "cbb424b2",
   "metadata": {},
   "source": [
    "Соединяем data_contacts и data_cards по юзеру, дате и директории"
   ]
  },
  {
   "cell_type": "code",
   "execution_count": 47,
   "id": "85f4beb2",
   "metadata": {},
   "outputs": [],
   "source": [
    "data_result = pd.merge(data_contacts, data_cards, how='right', on=['class', 'date'])"
   ]
  },
  {
   "cell_type": "markdown",
   "id": "e14cee02",
   "metadata": {},
   "source": [
    "В data_result содержится информация о том, сколько раз пользователи определенного класса открывали карточку и смотрели контакты в определенный день"
   ]
  },
  {
   "cell_type": "code",
   "execution_count": 48,
   "id": "640852b4",
   "metadata": {},
   "outputs": [],
   "source": [
    "data_result.rename(columns = {'url_y' : 'all_count_of_view', 'url_x': 'contact_count_of_view'}, inplace = True) "
   ]
  },
  {
   "cell_type": "markdown",
   "id": "ac2bb8a5",
   "metadata": {},
   "source": [
    "Создаем колонку 'ratio', которая показывает соотношение открытия контактов и открытия карточки"
   ]
  },
  {
   "cell_type": "code",
   "execution_count": 49,
   "id": "3694500b",
   "metadata": {},
   "outputs": [],
   "source": [
    "data_result['ratio'] = data_result['contact_count_of_view'] / data_result['all_count_of_view']"
   ]
  },
  {
   "cell_type": "markdown",
   "id": "1024a183",
   "metadata": {},
   "source": [
    "Сводная информация по группе 'A'"
   ]
  },
  {
   "cell_type": "code",
   "execution_count": 50,
   "id": "356b1896",
   "metadata": {},
   "outputs": [
    {
     "data": {
      "text/html": [
       "<div>\n",
       "<style scoped>\n",
       "    .dataframe tbody tr th:only-of-type {\n",
       "        vertical-align: middle;\n",
       "    }\n",
       "\n",
       "    .dataframe tbody tr th {\n",
       "        vertical-align: top;\n",
       "    }\n",
       "\n",
       "    .dataframe thead th {\n",
       "        text-align: right;\n",
       "    }\n",
       "</style>\n",
       "<table border=\"1\" class=\"dataframe\">\n",
       "  <thead>\n",
       "    <tr style=\"text-align: right;\">\n",
       "      <th></th>\n",
       "      <th>contact_count_of_view</th>\n",
       "      <th>all_count_of_view</th>\n",
       "      <th>ratio</th>\n",
       "    </tr>\n",
       "  </thead>\n",
       "  <tbody>\n",
       "    <tr>\n",
       "      <th>count</th>\n",
       "      <td>31.000000</td>\n",
       "      <td>31.000000</td>\n",
       "      <td>31.000000</td>\n",
       "    </tr>\n",
       "    <tr>\n",
       "      <th>mean</th>\n",
       "      <td>322.967742</td>\n",
       "      <td>7421.354839</td>\n",
       "      <td>0.043386</td>\n",
       "    </tr>\n",
       "    <tr>\n",
       "      <th>std</th>\n",
       "      <td>85.391836</td>\n",
       "      <td>1503.769786</td>\n",
       "      <td>0.006481</td>\n",
       "    </tr>\n",
       "    <tr>\n",
       "      <th>min</th>\n",
       "      <td>183.000000</td>\n",
       "      <td>4901.000000</td>\n",
       "      <td>0.031841</td>\n",
       "    </tr>\n",
       "    <tr>\n",
       "      <th>25%</th>\n",
       "      <td>274.000000</td>\n",
       "      <td>6280.000000</td>\n",
       "      <td>0.039011</td>\n",
       "    </tr>\n",
       "    <tr>\n",
       "      <th>50%</th>\n",
       "      <td>315.000000</td>\n",
       "      <td>7324.000000</td>\n",
       "      <td>0.043212</td>\n",
       "    </tr>\n",
       "    <tr>\n",
       "      <th>75%</th>\n",
       "      <td>382.000000</td>\n",
       "      <td>8650.000000</td>\n",
       "      <td>0.048125</td>\n",
       "    </tr>\n",
       "    <tr>\n",
       "      <th>max</th>\n",
       "      <td>518.000000</td>\n",
       "      <td>10092.000000</td>\n",
       "      <td>0.057922</td>\n",
       "    </tr>\n",
       "  </tbody>\n",
       "</table>\n",
       "</div>"
      ],
      "text/plain": [
       "       contact_count_of_view  all_count_of_view      ratio\n",
       "count              31.000000          31.000000  31.000000\n",
       "mean              322.967742        7421.354839   0.043386\n",
       "std                85.391836        1503.769786   0.006481\n",
       "min               183.000000        4901.000000   0.031841\n",
       "25%               274.000000        6280.000000   0.039011\n",
       "50%               315.000000        7324.000000   0.043212\n",
       "75%               382.000000        8650.000000   0.048125\n",
       "max               518.000000       10092.000000   0.057922"
      ]
     },
     "execution_count": 50,
     "metadata": {},
     "output_type": "execute_result"
    }
   ],
   "source": [
    "data_result.loc[data_result['class'] == 'A'].describe()"
   ]
  },
  {
   "cell_type": "markdown",
   "id": "a0c7359d",
   "metadata": {},
   "source": [
    "Сводная информация по группе 'B'"
   ]
  },
  {
   "cell_type": "code",
   "execution_count": 51,
   "id": "4a693e6f",
   "metadata": {},
   "outputs": [
    {
     "data": {
      "text/html": [
       "<div>\n",
       "<style scoped>\n",
       "    .dataframe tbody tr th:only-of-type {\n",
       "        vertical-align: middle;\n",
       "    }\n",
       "\n",
       "    .dataframe tbody tr th {\n",
       "        vertical-align: top;\n",
       "    }\n",
       "\n",
       "    .dataframe thead th {\n",
       "        text-align: right;\n",
       "    }\n",
       "</style>\n",
       "<table border=\"1\" class=\"dataframe\">\n",
       "  <thead>\n",
       "    <tr style=\"text-align: right;\">\n",
       "      <th></th>\n",
       "      <th>contact_count_of_view</th>\n",
       "      <th>all_count_of_view</th>\n",
       "      <th>ratio</th>\n",
       "    </tr>\n",
       "  </thead>\n",
       "  <tbody>\n",
       "    <tr>\n",
       "      <th>count</th>\n",
       "      <td>31.000000</td>\n",
       "      <td>31.000000</td>\n",
       "      <td>31.000000</td>\n",
       "    </tr>\n",
       "    <tr>\n",
       "      <th>mean</th>\n",
       "      <td>296.612903</td>\n",
       "      <td>6432.774194</td>\n",
       "      <td>0.045827</td>\n",
       "    </tr>\n",
       "    <tr>\n",
       "      <th>std</th>\n",
       "      <td>78.168484</td>\n",
       "      <td>1342.715475</td>\n",
       "      <td>0.005638</td>\n",
       "    </tr>\n",
       "    <tr>\n",
       "      <th>min</th>\n",
       "      <td>171.000000</td>\n",
       "      <td>4567.000000</td>\n",
       "      <td>0.035578</td>\n",
       "    </tr>\n",
       "    <tr>\n",
       "      <th>25%</th>\n",
       "      <td>230.000000</td>\n",
       "      <td>5393.000000</td>\n",
       "      <td>0.042687</td>\n",
       "    </tr>\n",
       "    <tr>\n",
       "      <th>50%</th>\n",
       "      <td>285.000000</td>\n",
       "      <td>6460.000000</td>\n",
       "      <td>0.046135</td>\n",
       "    </tr>\n",
       "    <tr>\n",
       "      <th>75%</th>\n",
       "      <td>357.000000</td>\n",
       "      <td>7588.000000</td>\n",
       "      <td>0.048500</td>\n",
       "    </tr>\n",
       "    <tr>\n",
       "      <th>max</th>\n",
       "      <td>477.000000</td>\n",
       "      <td>8908.000000</td>\n",
       "      <td>0.062239</td>\n",
       "    </tr>\n",
       "  </tbody>\n",
       "</table>\n",
       "</div>"
      ],
      "text/plain": [
       "       contact_count_of_view  all_count_of_view      ratio\n",
       "count              31.000000          31.000000  31.000000\n",
       "mean              296.612903        6432.774194   0.045827\n",
       "std                78.168484        1342.715475   0.005638\n",
       "min               171.000000        4567.000000   0.035578\n",
       "25%               230.000000        5393.000000   0.042687\n",
       "50%               285.000000        6460.000000   0.046135\n",
       "75%               357.000000        7588.000000   0.048500\n",
       "max               477.000000        8908.000000   0.062239"
      ]
     },
     "execution_count": 51,
     "metadata": {},
     "output_type": "execute_result"
    }
   ],
   "source": [
    "data_result.loc[data_result['class'] == 'B'].describe()"
   ]
  },
  {
   "cell_type": "markdown",
   "id": "5c7723ff",
   "metadata": {},
   "source": [
    "Всего просмотров в периоде от 2017-11-01 до 2017-12-01 по каждому из классов \t"
   ]
  },
  {
   "cell_type": "code",
   "execution_count": 52,
   "id": "e8a28cb0",
   "metadata": {},
   "outputs": [
    {
     "data": {
      "text/html": [
       "<div>\n",
       "<style scoped>\n",
       "    .dataframe tbody tr th:only-of-type {\n",
       "        vertical-align: middle;\n",
       "    }\n",
       "\n",
       "    .dataframe tbody tr th {\n",
       "        vertical-align: top;\n",
       "    }\n",
       "\n",
       "    .dataframe thead th {\n",
       "        text-align: right;\n",
       "    }\n",
       "</style>\n",
       "<table border=\"1\" class=\"dataframe\">\n",
       "  <thead>\n",
       "    <tr style=\"text-align: right;\">\n",
       "      <th></th>\n",
       "      <th>class</th>\n",
       "      <th>all_count_of_view</th>\n",
       "      <th>contact_count_of_view</th>\n",
       "      <th>ratio</th>\n",
       "    </tr>\n",
       "  </thead>\n",
       "  <tbody>\n",
       "    <tr>\n",
       "      <th>0</th>\n",
       "      <td>A</td>\n",
       "      <td>230062</td>\n",
       "      <td>10012</td>\n",
       "      <td>0.043386</td>\n",
       "    </tr>\n",
       "    <tr>\n",
       "      <th>1</th>\n",
       "      <td>B</td>\n",
       "      <td>199416</td>\n",
       "      <td>9195</td>\n",
       "      <td>0.045827</td>\n",
       "    </tr>\n",
       "  </tbody>\n",
       "</table>\n",
       "</div>"
      ],
      "text/plain": [
       "  class  all_count_of_view  contact_count_of_view     ratio\n",
       "0     A             230062                  10012  0.043386\n",
       "1     B             199416                   9195  0.045827"
      ]
     },
     "execution_count": 52,
     "metadata": {},
     "output_type": "execute_result"
    }
   ],
   "source": [
    "data_result_class = data_result.groupby(['class'], as_index=False) \\\n",
    "                               .aggregate({'all_count_of_view': 'sum', 'contact_count_of_view': 'sum', 'ratio': 'mean'})\n",
    "data_result_class"
   ]
  },
  {
   "cell_type": "markdown",
   "id": "91c42d6e",
   "metadata": {},
   "source": [
    "График отношения просмотров карточки и просмотров по дням для каждого класса"
   ]
  },
  {
   "cell_type": "code",
   "execution_count": 53,
   "id": "d52cb06f",
   "metadata": {},
   "outputs": [
    {
     "data": {
      "text/plain": [
       "<matplotlib.legend.Legend at 0x2aac0025400>"
      ]
     },
     "execution_count": 53,
     "metadata": {},
     "output_type": "execute_result"
    },
    {
     "data": {
      "image/png": "[encoded data removed]",
      "text/plain": [
       "<Figure size 1440x720 with 1 Axes>"
      ]
     },
     "metadata": {},
     "output_type": "display_data"
    }
   ],
   "source": [
    "sns.set(rc={'figure.figsize':(20.,10.)})\n",
    "ax = sns.barplot(x='date', y='ratio', hue='class', data=data_result)\n",
    "ax.set_xlabel('Дата')\n",
    "ax.set_ylabel('Соотношение количества просмотров и открытия контактов')\n",
    "ax.legend(title='Группа', loc='upper left')"
   ]
  },
  {
   "cell_type": "markdown",
   "id": "e26be12d",
   "metadata": {},
   "source": [
    "В периоде с 1 ноября 2017 по 1 декабря 2017: \n",
    "\n",
    "Среднее значение просмотров карточки у пользователей в группе 'A' в день: 7421.354839 \\\n",
    "Среднее значение просмотров контактов у пользователей в группе 'A' в день: 322.967742 \\\n",
    "С шансом 0.043386 пользователь в группе 'A' откроет контакт в карточке\n",
    "\n",
    "\n",
    "Среднее значение просмотров карточки у пользователей в группе 'B' в день: 6432.774194 \\\n",
    "Среднее значение просмотров контактов у пользователей в группе 'B' в день: 296.612903 \\\n",
    "С шансом 0.045827 пользователь в группе 'B' откроет контакт в карточке"
   ]
  },
  {
   "cell_type": "markdown",
   "id": "1d87babc",
   "metadata": {},
   "source": [
    "Посчитаем p-уровень значимости"
   ]
  },
  {
   "cell_type": "code",
   "execution_count": 54,
   "id": "690ad1be",
   "metadata": {},
   "outputs": [
    {
     "data": {
      "text/plain": [
       "0.1676789684746155"
      ]
     },
     "execution_count": 54,
     "metadata": {},
     "output_type": "execute_result"
    }
   ],
   "source": [
    "stats.mannwhitneyu(data_result.loc[data_result['class'] == 'B']['ratio'], \n",
    "                   data_result.loc[data_result['class'] == 'A']['ratio']).pvalue"
   ]
  },
  {
   "cell_type": "markdown",
   "id": "8cfe2175",
   "metadata": {},
   "source": [
    "0.1676789684746155 > 0.05, следовательно, различий в конверсии групп А и В нет \\\n",
    "Принимаем нулевую гипотезу \\\n",
    "Решение о переходе на новый дизайн остается за заказчиком:)"
   ]
  }
 ],
 "metadata": {
  "kernelspec": {
   "display_name": "Python 3 (ipykernel)",
   "language": "python",
   "name": "python3"
  },
  "language_info": {
   "codemirror_mode": {
    "name": "ipython",
    "version": 3
   },
   "file_extension": ".py",
   "mimetype": "text/x-python",
   "name": "python",
   "nbconvert_exporter": "python",
   "pygments_lexer": "ipython3",
   "version": "3.9.7"
  }
 },
 "nbformat": 4,
 "nbformat_minor": 5
}
