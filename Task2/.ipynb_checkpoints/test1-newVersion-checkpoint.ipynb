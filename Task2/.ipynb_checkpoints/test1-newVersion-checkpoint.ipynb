{
 "cells": [
  {
   "cell_type": "code",
   "execution_count": 273,
   "id": "933cd9aa",
   "metadata": {},
   "outputs": [],
   "source": [
    "import pandas as pd\n",
    "import matplotlib.pyplot as plt\n",
    "import numpy as np\n",
    "import seaborn as sns\n",
    "import re\n",
    "from datetime import datetime\n",
    "pd.options.mode.chained_assignment = None"
   ]
  },
  {
   "cell_type": "markdown",
   "id": "c261bd0b",
   "metadata": {},
   "source": [
    "Считываем файл и сразу же преобразовываем колонку date"
   ]
  },
  {
   "cell_type": "code",
   "execution_count": 274,
   "id": "6a4754f4",
   "metadata": {
    "scrolled": true
   },
   "outputs": [],
   "source": [
    "def parse_dates(dates):\n",
    "    return [\n",
    "        datetime.strptime(date, '%Y-%m-%d %H:%M:%S').strftime('%d-%m')\n",
    "        for date in dates\n",
    "    ]\n",
    "\n",
    "\n",
    "data = pd.read_csv('exp1.csv', parse_dates=['date'], date_parser=parse_dates)"
   ]
  },
  {
   "cell_type": "markdown",
   "id": "d431601d",
   "metadata": {},
   "source": [
    "Инициализируем регулярные выражения для создания новых датасетов"
   ]
  },
  {
   "cell_type": "code",
   "execution_count": 275,
   "id": "3214aae4",
   "metadata": {},
   "outputs": [],
   "source": [
    "card = r'/city/directory/\\d+.html'\n",
    "contact_1 = r'/good/\\d+/owner_info.*'\n",
    "contact_2 = r'/bulletin/\\d+/ajax_contact.*'\n",
    "directory = r'\\d+'"
   ]
  },
  {
   "cell_type": "markdown",
   "id": "416e8c97",
   "metadata": {},
   "source": [
    "Создаем датасет data_cards, в котором хранятся все открытия карточек. Так же создаем новую колонку dir для будущего соединения с контактами. Так же удаляем дубликаты в строках (если человек заходил в карточку несколько раз в день, то останется только одна запись)"
   ]
  },
  {
   "cell_type": "code",
   "execution_count": 276,
   "id": "fff0b2a3",
   "metadata": {},
   "outputs": [],
   "source": [
    "data_cards = data.loc[data['url'].str.match(pat=card)]\n",
    "data_cards['dir'] = data_cards['url'].apply(lambda x: re.search(directory, x).group(0))\n",
    "data_cards = data_cards.drop_duplicates(keep='first')"
   ]
  },
  {
   "cell_type": "markdown",
   "id": "e6ef792c",
   "metadata": {},
   "source": [
    "Создаем датасет data_contacts, в котором хранятся все открытия контактов. Так же создаем новую колонку dir для будущего соединения с карточками"
   ]
  },
  {
   "cell_type": "code",
   "execution_count": 277,
   "id": "cc067c9f",
   "metadata": {},
   "outputs": [],
   "source": [
    "data_contacts = data.loc[(data['url'].str.match(pat=contact_1)) | (data['url'].str.match(pat=contact_2))]\n",
    "data_contacts['dir'] = data_contacts['url'].apply(lambda x: re.search(directory, x).group(0))"
   ]
  },
  {
   "cell_type": "markdown",
   "id": "cbb424b2",
   "metadata": {},
   "source": [
    "Соединяем data_contacts и data_cards по юзеру, дате и директории"
   ]
  },
  {
   "cell_type": "code",
   "execution_count": 328,
   "id": "85f4beb2",
   "metadata": {},
   "outputs": [],
   "source": [
    "data_result = pd.merge(data_contacts, data_cards, how='right', on=['user_id', 'date', 'dir'])"
   ]
  },
  {
   "cell_type": "markdown",
   "id": "8bf1e3ee",
   "metadata": {},
   "source": [
    "Создаем колонку class"
   ]
  },
  {
   "cell_type": "code",
   "execution_count": 329,
   "id": "36bdb194",
   "metadata": {},
   "outputs": [],
   "source": [
    "data_result['class'] = data_result['user_id'].apply(lambda x: x[-1])"
   ]
  },
  {
   "cell_type": "markdown",
   "id": "e14cee02",
   "metadata": {},
   "source": [
    "В data_result содержится информация о том, сколько раз пользователи определенного класса открывали карточку и смотрели контакты в определенный день"
   ]
  },
  {
   "cell_type": "code",
   "execution_count": 330,
   "id": "640852b4",
   "metadata": {},
   "outputs": [],
   "source": [
    "data_result = data_result.groupby(['class', 'date'], as_index=False).aggregate({'dir': 'count', 'url_x': 'count'})\n",
    "data_result.rename(columns = {'dir' : 'all_count_of_view', 'url_x': 'contact_count_of_view'}, inplace = True) "
   ]
  },
  {
   "cell_type": "markdown",
   "id": "ac2bb8a5",
   "metadata": {},
   "source": [
    "Создаем колонку 'ratio', которая показывает соотношение открытия контактов и открытия карточки"
   ]
  },
  {
   "cell_type": "code",
   "execution_count": 331,
   "id": "3694500b",
   "metadata": {},
   "outputs": [],
   "source": [
    "data_result['ratio'] = data_result['contact_count_of_view'] / data_result['all_count_of_view']"
   ]
  },
  {
   "cell_type": "markdown",
   "id": "1024a183",
   "metadata": {},
   "source": [
    "Сводная информация по группе 'A'"
   ]
  },
  {
   "cell_type": "code",
   "execution_count": 340,
   "id": "356b1896",
   "metadata": {},
   "outputs": [
    {
     "data": {
      "text/html": [
       "<div>\n",
       "<style scoped>\n",
       "    .dataframe tbody tr th:only-of-type {\n",
       "        vertical-align: middle;\n",
       "    }\n",
       "\n",
       "    .dataframe tbody tr th {\n",
       "        vertical-align: top;\n",
       "    }\n",
       "\n",
       "    .dataframe thead th {\n",
       "        text-align: right;\n",
       "    }\n",
       "</style>\n",
       "<table border=\"1\" class=\"dataframe\">\n",
       "  <thead>\n",
       "    <tr style=\"text-align: right;\">\n",
       "      <th></th>\n",
       "      <th>all_count_of_view</th>\n",
       "      <th>contact_count_of_view</th>\n",
       "      <th>ratio</th>\n",
       "    </tr>\n",
       "  </thead>\n",
       "  <tbody>\n",
       "    <tr>\n",
       "      <th>count</th>\n",
       "      <td>31.000000</td>\n",
       "      <td>31.000000</td>\n",
       "      <td>31.000000</td>\n",
       "    </tr>\n",
       "    <tr>\n",
       "      <th>mean</th>\n",
       "      <td>6011.709677</td>\n",
       "      <td>292.354839</td>\n",
       "      <td>0.048535</td>\n",
       "    </tr>\n",
       "    <tr>\n",
       "      <th>std</th>\n",
       "      <td>1221.748315</td>\n",
       "      <td>79.384948</td>\n",
       "      <td>0.008020</td>\n",
       "    </tr>\n",
       "    <tr>\n",
       "      <th>min</th>\n",
       "      <td>3871.000000</td>\n",
       "      <td>156.000000</td>\n",
       "      <td>0.035118</td>\n",
       "    </tr>\n",
       "    <tr>\n",
       "      <th>25%</th>\n",
       "      <td>5118.000000</td>\n",
       "      <td>247.500000</td>\n",
       "      <td>0.043084</td>\n",
       "    </tr>\n",
       "    <tr>\n",
       "      <th>50%</th>\n",
       "      <td>6100.000000</td>\n",
       "      <td>282.000000</td>\n",
       "      <td>0.047619</td>\n",
       "    </tr>\n",
       "    <tr>\n",
       "      <th>75%</th>\n",
       "      <td>6953.500000</td>\n",
       "      <td>338.500000</td>\n",
       "      <td>0.052811</td>\n",
       "    </tr>\n",
       "    <tr>\n",
       "      <th>max</th>\n",
       "      <td>8293.000000</td>\n",
       "      <td>471.000000</td>\n",
       "      <td>0.067582</td>\n",
       "    </tr>\n",
       "  </tbody>\n",
       "</table>\n",
       "</div>"
      ],
      "text/plain": [
       "       all_count_of_view  contact_count_of_view      ratio\n",
       "count          31.000000              31.000000  31.000000\n",
       "mean         6011.709677             292.354839   0.048535\n",
       "std          1221.748315              79.384948   0.008020\n",
       "min          3871.000000             156.000000   0.035118\n",
       "25%          5118.000000             247.500000   0.043084\n",
       "50%          6100.000000             282.000000   0.047619\n",
       "75%          6953.500000             338.500000   0.052811\n",
       "max          8293.000000             471.000000   0.067582"
      ]
     },
     "execution_count": 340,
     "metadata": {},
     "output_type": "execute_result"
    }
   ],
   "source": [
    "data_result.loc[data_result['class'] == 'A'].describe()"
   ]
  },
  {
   "cell_type": "markdown",
   "id": "a0c7359d",
   "metadata": {},
   "source": [
    "Сводная информация по группе 'B'"
   ]
  },
  {
   "cell_type": "code",
   "execution_count": 341,
   "id": "4a693e6f",
   "metadata": {},
   "outputs": [
    {
     "data": {
      "text/html": [
       "<div>\n",
       "<style scoped>\n",
       "    .dataframe tbody tr th:only-of-type {\n",
       "        vertical-align: middle;\n",
       "    }\n",
       "\n",
       "    .dataframe tbody tr th {\n",
       "        vertical-align: top;\n",
       "    }\n",
       "\n",
       "    .dataframe thead th {\n",
       "        text-align: right;\n",
       "    }\n",
       "</style>\n",
       "<table border=\"1\" class=\"dataframe\">\n",
       "  <thead>\n",
       "    <tr style=\"text-align: right;\">\n",
       "      <th></th>\n",
       "      <th>all_count_of_view</th>\n",
       "      <th>contact_count_of_view</th>\n",
       "      <th>ratio</th>\n",
       "    </tr>\n",
       "  </thead>\n",
       "  <tbody>\n",
       "    <tr>\n",
       "      <th>count</th>\n",
       "      <td>31.000000</td>\n",
       "      <td>31.000000</td>\n",
       "      <td>31.000000</td>\n",
       "    </tr>\n",
       "    <tr>\n",
       "      <th>mean</th>\n",
       "      <td>5188.645161</td>\n",
       "      <td>268.129032</td>\n",
       "      <td>0.051202</td>\n",
       "    </tr>\n",
       "    <tr>\n",
       "      <th>std</th>\n",
       "      <td>1055.249972</td>\n",
       "      <td>75.196073</td>\n",
       "      <td>0.007566</td>\n",
       "    </tr>\n",
       "    <tr>\n",
       "      <th>min</th>\n",
       "      <td>3727.000000</td>\n",
       "      <td>145.000000</td>\n",
       "      <td>0.038018</td>\n",
       "    </tr>\n",
       "    <tr>\n",
       "      <th>25%</th>\n",
       "      <td>4388.500000</td>\n",
       "      <td>197.500000</td>\n",
       "      <td>0.046137</td>\n",
       "    </tr>\n",
       "    <tr>\n",
       "      <th>50%</th>\n",
       "      <td>5204.000000</td>\n",
       "      <td>265.000000</td>\n",
       "      <td>0.050240</td>\n",
       "    </tr>\n",
       "    <tr>\n",
       "      <th>75%</th>\n",
       "      <td>6049.000000</td>\n",
       "      <td>322.500000</td>\n",
       "      <td>0.055641</td>\n",
       "    </tr>\n",
       "    <tr>\n",
       "      <th>max</th>\n",
       "      <td>7076.000000</td>\n",
       "      <td>444.000000</td>\n",
       "      <td>0.073243</td>\n",
       "    </tr>\n",
       "  </tbody>\n",
       "</table>\n",
       "</div>"
      ],
      "text/plain": [
       "       all_count_of_view  contact_count_of_view      ratio\n",
       "count          31.000000              31.000000  31.000000\n",
       "mean         5188.645161             268.129032   0.051202\n",
       "std          1055.249972              75.196073   0.007566\n",
       "min          3727.000000             145.000000   0.038018\n",
       "25%          4388.500000             197.500000   0.046137\n",
       "50%          5204.000000             265.000000   0.050240\n",
       "75%          6049.000000             322.500000   0.055641\n",
       "max          7076.000000             444.000000   0.073243"
      ]
     },
     "execution_count": 341,
     "metadata": {},
     "output_type": "execute_result"
    }
   ],
   "source": [
    "data_result.loc[data_result['class'] == 'B'].describe()"
   ]
  },
  {
   "cell_type": "markdown",
   "id": "5c7723ff",
   "metadata": {},
   "source": [
    "Всего просмотров в периоде от 2017-11-01 до 2017-12-01 по каждому из классов \t"
   ]
  },
  {
   "cell_type": "code",
   "execution_count": 349,
   "id": "e8a28cb0",
   "metadata": {},
   "outputs": [
    {
     "data": {
      "text/html": [
       "<div>\n",
       "<style scoped>\n",
       "    .dataframe tbody tr th:only-of-type {\n",
       "        vertical-align: middle;\n",
       "    }\n",
       "\n",
       "    .dataframe tbody tr th {\n",
       "        vertical-align: top;\n",
       "    }\n",
       "\n",
       "    .dataframe thead th {\n",
       "        text-align: right;\n",
       "    }\n",
       "</style>\n",
       "<table border=\"1\" class=\"dataframe\">\n",
       "  <thead>\n",
       "    <tr style=\"text-align: right;\">\n",
       "      <th></th>\n",
       "      <th>class</th>\n",
       "      <th>all_count_of_view</th>\n",
       "      <th>contact_count_of_view</th>\n",
       "      <th>ratio</th>\n",
       "    </tr>\n",
       "  </thead>\n",
       "  <tbody>\n",
       "    <tr>\n",
       "      <th>0</th>\n",
       "      <td>A</td>\n",
       "      <td>186363</td>\n",
       "      <td>9063</td>\n",
       "      <td>0.048535</td>\n",
       "    </tr>\n",
       "    <tr>\n",
       "      <th>1</th>\n",
       "      <td>B</td>\n",
       "      <td>160848</td>\n",
       "      <td>8312</td>\n",
       "      <td>0.051202</td>\n",
       "    </tr>\n",
       "  </tbody>\n",
       "</table>\n",
       "</div>"
      ],
      "text/plain": [
       "  class  all_count_of_view  contact_count_of_view     ratio\n",
       "0     A             186363                   9063  0.048535\n",
       "1     B             160848                   8312  0.051202"
      ]
     },
     "execution_count": 349,
     "metadata": {},
     "output_type": "execute_result"
    }
   ],
   "source": [
    "data_result_class = data_result.groupby(['class'], as_index=False).aggregate({'all_count_of_view': 'sum', 'contact_count_of_view': 'sum', 'ratio': 'mean'})\n",
    "data_result_class"
   ]
  },
  {
   "cell_type": "markdown",
   "id": "91c42d6e",
   "metadata": {},
   "source": [
    "График отношения просмотров карточки и просмотров по дням для каждого класса"
   ]
  },
  {
   "cell_type": "code",
   "execution_count": 339,
   "id": "d52cb06f",
   "metadata": {},
   "outputs": [
    {
     "data": {
      "text/plain": [
       "<matplotlib.legend.Legend at 0x20eade52fd0>"
      ]
     },
     "execution_count": 339,
     "metadata": {},
     "output_type": "execute_result"
    },
    {
     "data": {
      "image/png": "[encoded data removed]",
      "text/plain": [
       "<Figure size 1440x720 with 1 Axes>"
      ]
     },
     "metadata": {},
     "output_type": "display_data"
    }
   ],
   "source": [
    "sns.set(rc={'figure.figsize':(20.,10.)})\n",
    "ax = sns.barplot(x='date', y='ratio', hue='class', data=data_result)\n",
    "ax.set_xlabel('Дата')\n",
    "ax.set_ylabel('Соотношение количества просмотров и открытия контактов')\n",
    "ax.legend(title='Группа', loc='upper left')"
   ]
  },
  {
   "cell_type": "markdown",
   "id": "e26be12d",
   "metadata": {},
   "source": [
    "В периоде с 2017-11-01 по 2017-12-01: \n",
    "\n",
    "Среднее значение просмотров карточки у пользователей в группе 'A' в день: 6011.709677 \\\n",
    "Среднее значение просмотров контактов у пользователей в группе 'A' в день: 292.354839 \\\n",
    "С шансом 0.048535 пользователь в группе 'A' откроет контакт в карточке\n",
    "\n",
    "\n",
    "Среднее значение просмотров карточки у пользователей в группе 'B' в день: 5188.645161 \\\n",
    "Среднее значение просмотров контактов у пользователей в группе 'B' в день: 268.129032 \\\n",
    "С шансом 0.051202 пользователь в группе 'B' откроет контакт в карточке\n",
    "\n",
    "\n",
    "Вывод: в среднем просмотры контактов в карточке выше у пользователей, у которых поменяли размер и положение кнопки"
   ]
  },
  {
   "cell_type": "code",
   "execution_count": null,
   "id": "7bf5c082",
   "metadata": {},
   "outputs": [],
   "source": []
  }
 ],
 "metadata": {
  "kernelspec": {
   "display_name": "Python 3 (ipykernel)",
   "language": "python",
   "name": "python3"
  },
  "language_info": {
   "codemirror_mode": {
    "name": "ipython",
    "version": 3
   },
   "file_extension": ".py",
   "mimetype": "text/x-python",
   "name": "python",
   "nbconvert_exporter": "python",
   "pygments_lexer": "ipython3",
   "version": "3.9.7"
  }
 },
 "nbformat": 4,
 "nbformat_minor": 5
}
